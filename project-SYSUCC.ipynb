{
 "cells": [
  {
   "cell_type": "markdown",
   "id": "d14f7642",
   "metadata": {},
   "source": [
    "# import"
   ]
  },
  {
   "cell_type": "code",
   "execution_count": null,
   "id": "82dd7d80",
   "metadata": {},
   "outputs": [],
   "source": [
    "import os\n",
    "import csv\n",
    "from scipy import stats\n",
    "import radiomics\n",
    "import numpy as np\n",
    "import sklearn\n",
    "from sklearn.preprocessing import StandardScaler\n",
    "from sklearn.model_selection import train_test_split\n",
    "from sklearn.model_selection import RandomizedSearchCV\n",
    "from sklearn.metrics import roc_curve, auc\n",
    "from sklearn.metrics import accuracy_score\n",
    "from sklearn.metrics import roc_auc_score\n",
    "from sklearn.metrics import recall_score\n",
    "from sklearn.metrics import RocCurveDisplay\n",
    "from sklearn.metrics import confusion_matrix\n",
    "from sklearn.metrics import roc_curve, auc\n",
    "from probatus.feature_elimination import ShapRFECV\n",
    "import matplotlib.pyplot as plt\n",
    "from xgboost import XGBClassifier\n",
    "import shap\n",
    "import lime\n",
    "import lime.lime_tabular\n",
    "from lime.lime_text import LimeTextExplainer\n",
    "import seaborn as sns\n",
    "from mrmr import mrmr_classif\n",
    "import pandas as pd\n",
    "import pingouin as pg\n",
    "from pathlib import Path\n",
    "import random"
   ]
  },
  {
   "cell_type": "markdown",
   "id": "0ed614d1",
   "metadata": {},
   "source": [
    "# load data"
   ]
  },
  {
   "cell_type": "code",
   "execution_count": null,
   "id": "a3cec9ec",
   "metadata": {},
   "outputs": [],
   "source": [
    "icc_sysucc_muti_module = pd.read_csv('next_icc_sysucc_muti_module.csv')\n",
    "icc_sysucc_id_label = icc_sysucc_muti_module.iloc[:,:3]\n",
    "icc_sysucc_muti_module.head()\n",
    "\n",
    "scaler = StandardScaler()\n",
    "icc_sysucc_data_muti_module = icc_sysucc_muti_module.iloc[:,3:].copy()\n",
    "icc_sysucc_data_muti_module = pd.DataFrame(scaler.fit_transform(icc_sysucc_data_muti_module), columns=icc_sysucc_data_muti_module.columns)\n",
    "icc_sysucc_label_muti_module = icc_sysucc_id_label['label'].copy()"
   ]
  },
  {
   "cell_type": "markdown",
   "id": "0c171488",
   "metadata": {},
   "source": [
    "## set 10 groups"
   ]
  },
  {
   "cell_type": "code",
   "execution_count": 337,
   "id": "680ee8a6",
   "metadata": {
    "ExecuteTime": {
     "end_time": "2024-01-28T12:55:40.866243Z",
     "start_time": "2024-01-28T12:55:40.838325Z"
    }
   },
   "outputs": [],
   "source": [
    "label_1_list = icc_sysucc_id_label[icc_sysucc_id_label['label']==1]['index_id'].tolist()\n",
    "label_0_list = icc_sysucc_id_label[icc_sysucc_id_label['label']==0]['index_id'].tolist()\n",
    "\n",
    "random.seed(seed)\n",
    "random.shuffle(label_1_list)\n",
    "random.shuffle(label_0_list)\n",
    "\n",
    "def divide_t(s,S):\n",
    "    N = list()\n",
    "    for n in S:\n",
    "        if not n in s:\n",
    "            N.append(n)\n",
    "    return(N)\n",
    "\n",
    "test_id_1 = label_1_list[:4]+label_0_list[:7]\n",
    "train_id_1 = divide_t(test_id_1,label_1_list+label_0_list)\n",
    "\n",
    "test_id_2 = label_1_list[4:8]+label_0_list[7:14]\n",
    "train_id_2 = divide_t(test_id_2,label_1_list+label_0_list)\n",
    "\n",
    "test_id_3 = label_1_list[8:12]+label_0_list[14:21]\n",
    "train_id_3 = divide_t(test_id_3,label_1_list+label_0_list)\n",
    "\n",
    "test_id_4 = label_1_list[12:16]+label_0_list[21:28]\n",
    "train_id_4 = divide_t(test_id_4,label_1_list+label_0_list)\n",
    "\n",
    "test_id_5 = label_1_list[16:20]+label_0_list[28:35]\n",
    "train_id_5 = divide_t(test_id_5,label_1_list+label_0_list)\n",
    "\n",
    "test_id_6 = label_1_list[20:24]+label_0_list[35:42]\n",
    "train_id_6 = divide_t(test_id_1,label_1_list+label_0_list)\n",
    "\n",
    "test_id_7 = label_1_list[24:28]+label_0_list[42:49]\n",
    "train_id_7 = divide_t(test_id_2,label_1_list+label_0_list)\n",
    "\n",
    "test_id_8 = label_1_list[28:31]+label_0_list[49:57]\n",
    "train_id_8 = divide_t(test_id_3,label_1_list+label_0_list)\n",
    "\n",
    "test_id_9 = label_1_list[31:34]+label_0_list[57:65]\n",
    "train_id_9 = divide_t(test_id_4,label_1_list+label_0_list)\n",
    "\n",
    "test_id_10 = label_1_list[34:]+label_0_list[65:]\n",
    "train_id_10 = divide_t(test_id_5,label_1_list+label_0_list)    \n",
    "\n",
    "gsk = list()\n",
    "group_x_y = list()\n",
    "group_x_y.append(np.array(train_id_1))\n",
    "group_x_y.append(np.array(test_id_1))\n",
    "gsk.append(group_x_y)\n",
    "\n",
    "group_x_y = list()\n",
    "group_x_y.append(np.array(train_id_2))\n",
    "group_x_y.append(np.array(test_id_2))\n",
    "gsk.append(group_x_y)\n",
    "\n",
    "group_x_y = list()\n",
    "group_x_y.append(np.array(train_id_3))\n",
    "group_x_y.append(np.array(test_id_3))\n",
    "gsk.append(group_x_y)\n",
    "\n",
    "group_x_y = list()\n",
    "group_x_y.append(np.array(train_id_4))\n",
    "group_x_y.append(np.array(test_id_4))\n",
    "gsk.append(group_x_y)\n",
    "\n",
    "group_x_y = list()\n",
    "group_x_y.append(np.array(train_id_5))\n",
    "group_x_y.append(np.array(test_id_5))\n",
    "gsk.append(group_x_y)\n",
    "\n",
    "group_x_y = list()\n",
    "group_x_y.append(np.array(train_id_6))\n",
    "group_x_y.append(np.array(test_id_6))\n",
    "gsk.append(group_x_y)\n",
    "\n",
    "group_x_y = list()\n",
    "group_x_y.append(np.array(train_id_7))\n",
    "group_x_y.append(np.array(test_id_7))\n",
    "gsk.append(group_x_y)\n",
    "\n",
    "group_x_y = list()\n",
    "group_x_y.append(np.array(train_id_8))\n",
    "group_x_y.append(np.array(test_id_8))\n",
    "gsk.append(group_x_y)\n",
    "\n",
    "group_x_y = list()\n",
    "group_x_y.append(np.array(train_id_9))\n",
    "group_x_y.append(np.array(test_id_9))\n",
    "gsk.append(group_x_y)\n",
    "\n",
    "group_x_y = list()\n",
    "group_x_y.append(np.array(train_id_10))\n",
    "group_x_y.append(np.array(test_id_10))\n",
    "gsk.append(group_x_y)"
   ]
  },
  {
   "cell_type": "markdown",
   "id": "567e92f8",
   "metadata": {},
   "source": [
    "## fit() CV"
   ]
  },
  {
   "cell_type": "code",
   "execution_count": null,
   "id": "4219f1fe",
   "metadata": {},
   "outputs": [],
   "source": [
    "clf = XGBClassifier(booster ='gbtree',\n",
    "                    reg_alph = 0.5,\n",
    "                    reg_lambda=1,\n",
    "                    gamma=0,\n",
    "                    eval_metric = 'auc', \n",
    "                    objective = 'binary:logistic')\n",
    "\n",
    "param_grid = {\n",
    "    \"n_estimators\": [x for x in range(30,60,2)],\n",
    "    \"colsample_bytree\": [0.5, 0.6, 0.7, 0.8],\n",
    "    'learning_rate':[0.1, 0.08, 0.05],\n",
    "    'max_depth':[3, 4, 5, 7, 8, 9, 10, 11, 12],\n",
    "    'random_state':[x for x in range(10,20)],\n",
    "    'min_child_weigh':[1, 2, 3, 4],\n",
    "    'subsample':[0.2],\n",
    "}\n",
    "\n",
    "search = RandomizedSearchCV(clf, param_grid, random_state=seed_search)\n",
    "\n",
    "shap_elimination = ShapRFECV(clf=search, step=0.2, cv=gsk, scoring=\"roc_auc\")\n",
    "report = shap_elimination.fit_compute(icc_sysucc_data_muti_module, icc_sysucc_label_muti_module)\n",
    "result_df = shap_elimination.report_df\n",
    "index_max_id = result_df['val_metric_mean'].idxmax()\n",
    "shap_features_number = result_df.loc[index_max_id]['num_features']\n",
    "shap_features_need = shap_elimination.get_reduced_features_set(num_features= int(shap_features_number))"
   ]
  },
  {
   "cell_type": "code",
   "execution_count": null,
   "id": "4199b582",
   "metadata": {},
   "outputs": [],
   "source": [
    "clf = XGBClassifier(booster ='gbtree',\n",
    "                    reg_alph = 0.5,\n",
    "                    reg_lambda=1,\n",
    "                    gamma=0,\n",
    "                    eval_metric = 'auc', \n",
    "                    objective = 'binary:logistic')\n",
    "\n",
    "estimator = RandomizedSearchCV(clf, param_grid, cv=gsk, scoring=\"roc_auc\",random_state=seed_search)\n",
    "estimator.fit(icc_sysucc_data_muti_module[shap_features_need], icc_sysucc_label_muti_module)\n",
    "params_need = estimator.best_params_"
   ]
  },
  {
   "cell_type": "code",
   "execution_count": null,
   "id": "bbcab499",
   "metadata": {},
   "outputs": [],
   "source": [
    "model_final = XGBClassifier(max_depth = params_need['max_depth'],\n",
    "                            n_estimators = params_need['n_estimators'], \n",
    "                            learning_rate = params_need['learning_rate'],\n",
    "                            colsample_bytree = params_need['colsample_bytree'],\n",
    "                            min_child_weigh = params_need['min_child_weigh'],\n",
    "                            random_state = params_need['random_state'],\n",
    "                            subsample= params_need['subsample'],\n",
    "                            booster ='gbtree',\n",
    "                            reg_alph = 0.5,\n",
    "                            reg_lambda=1,\n",
    "                            gamma=0,\n",
    "                            eval_metric = 'auc', \n",
    "                            objective = 'binary:logistic')\n",
    "\n",
    "model_final.fit(icc_sysucc_data_muti_module[shap_features_need], icc_sysucc_label_muti_module, \n",
    "          eval_set=[(icc_sysucc_data_muti_module[shap_features_need], icc_sysucc_label_muti_module)])\n",
    "\n",
    "model_final.save_model('final_model.json')"
   ]
  },
  {
   "cell_type": "markdown",
   "id": "6e768465",
   "metadata": {},
   "source": [
    "# external test for final model"
   ]
  },
  {
   "cell_type": "code",
   "execution_count": null,
   "id": "57f2e017",
   "metadata": {},
   "outputs": [],
   "source": [
    "icc_fuyi_muti_module = pd.read_csv('next_icc_fuyi_muti_module.csv')\n",
    "icc_nanfang_muti_module = pd.read_csv('next_icc_nanfang_muti_module.csv')\n",
    "\n",
    "icc_external_data_muti_module = pd.concat([icc_fuyi_muti_module,icc_nanfang_muti_module],axis=0).iloc[:,3:]\n",
    "icc_external_label_muti_module= pd.concat([icc_fuyi_muti_module,icc_nanfang_muti_module],axis=0)['label']\n",
    "icc_external_id_label_muti_module= pd.concat([icc_fuyi_muti_module,icc_nanfang_muti_module],axis=0).iloc[:,:3]\n",
    "\n",
    "icc_external_data_muti_module = pd.DataFrame(scaler.fit_transform(icc_external_data_muti_module), columns=icc_external_data_muti_module.columns)\n",
    "\n",
    "icc_external_data_muti_module.head()"
   ]
  },
  {
   "cell_type": "code",
   "execution_count": null,
   "id": "d193f891",
   "metadata": {},
   "outputs": [],
   "source": [
    "y_test = icc_external_label_muti_module.tolist()\n",
    "pred_pro = model_final.predict_proba(icc_external_data_muti_module[shap_features_need])[:,1]\n",
    "\n",
    "csv_detail_ex_name = 'csv_detail_ex.csv'\n",
    "csv_detail_ex = icc_external_id_label_muti_module.copy()\n",
    "csv_detail_ex['predict_proba'] = pred_pro.tolist()\n",
    "csv_detail_ex.to_csv(csv_detail_ex_name, header=True, index=False)"
   ]
  },
  {
   "cell_type": "markdown",
   "id": "cbaf00a0",
   "metadata": {},
   "source": [
    "# shap explainer"
   ]
  },
  {
   "cell_type": "code",
   "execution_count": null,
   "id": "36ef58c8",
   "metadata": {},
   "outputs": [],
   "source": [
    "explainer = shap.TreeExplainer(model_final,icc_sysucc_data_muti_module[shap_features_need],link= shap.links.logit, model_output='probability')\n",
    "shap_values = explainer(icc_external_data_muti_module[shap_features_need],icc_external_label_muti_module)"
   ]
  },
  {
   "cell_type": "code",
   "execution_count": null,
   "id": "fc3948db",
   "metadata": {},
   "outputs": [],
   "source": [
    "plt.figure()\n",
    "shap.plots.beeswarm(shap_values,max_display=25, show=False)\n",
    "plt.savefig('shap_ex.svg', dpi=300, bbox_inches = 'tight')\n",
    "plt.close()"
   ]
  },
  {
   "cell_type": "code",
   "execution_count": null,
   "id": "424e0d82",
   "metadata": {},
   "outputs": [],
   "source": [
    "i = 30 # select a patient id\n",
    "plt.figure()\n",
    "shap.plots.waterfall(shap_values[i],max_display=11,show=False)\n",
    "plt.savefig('shap_ex['+str(i)+']_waterfall.svg', dpi=300, bbox_inches = 'tight')\n",
    "plt.close()"
   ]
  },
  {
   "cell_type": "code",
   "execution_count": null,
   "id": "184c100d",
   "metadata": {},
   "outputs": [],
   "source": [
    "pd_shap_values = pd.DataFrame(shap_values.values,columns = shap_features_need, index = icc_external_id_label_muti_module.index)\n",
    "pd_shap_values.to_csv('pd_shap_values_ex.csv',header=True, index=True)"
   ]
  }
 ],
 "metadata": {
  "kernelspec": {
   "display_name": "python3.9",
   "language": "python",
   "name": "python3.9"
  },
  "language_info": {
   "codemirror_mode": {
    "name": "ipython",
    "version": 3
   },
   "file_extension": ".py",
   "mimetype": "text/x-python",
   "name": "python",
   "nbconvert_exporter": "python",
   "pygments_lexer": "ipython3",
   "version": "3.9.18"
  },
  "toc": {
   "base_numbering": 1,
   "nav_menu": {},
   "number_sections": true,
   "sideBar": true,
   "skip_h1_title": false,
   "title_cell": "Table of Contents",
   "title_sidebar": "Contents",
   "toc_cell": false,
   "toc_position": {
    "height": "calc(100% - 180px)",
    "left": "10px",
    "top": "150px",
    "width": "267.391px"
   },
   "toc_section_display": true,
   "toc_window_display": true
  },
  "varInspector": {
   "cols": {
    "lenName": 16,
    "lenType": 16,
    "lenVar": 40
   },
   "kernels_config": {
    "python": {
     "delete_cmd_postfix": "",
     "delete_cmd_prefix": "del ",
     "library": "var_list.py",
     "varRefreshCmd": "print(var_dic_list())"
    },
    "r": {
     "delete_cmd_postfix": ") ",
     "delete_cmd_prefix": "rm(",
     "library": "var_list.r",
     "varRefreshCmd": "cat(var_dic_list()) "
    }
   },
   "types_to_exclude": [
    "module",
    "function",
    "builtin_function_or_method",
    "instance",
    "_Feature"
   ],
   "window_display": false
  }
 },
 "nbformat": 4,
 "nbformat_minor": 5
}
